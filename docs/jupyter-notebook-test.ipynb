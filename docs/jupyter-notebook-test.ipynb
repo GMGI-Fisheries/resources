{
 "cells": [
  {
   "cell_type": "markdown",
   "metadata": {},
   "source": [
    "# Testing this as part of the eDNA workflow \n",
    "Jupyter Notebook \n"
   ]
  },
  {
   "cell_type": "code",
   "execution_count": 6,
   "metadata": {},
   "outputs": [
    {
     "name": "stdout",
     "output_type": "stream",
     "text": [
      "^C\n"
     ]
    }
   ],
   "source": [
    "!ssh -o ConnectTimeout=10 e.strand@login.discovery.neu.edu"
   ]
  },
  {
   "cell_type": "code",
   "execution_count": 8,
   "metadata": {},
   "outputs": [
    {
     "name": "stdout",
     "output_type": "stream",
     "text": [
      "Collecting paramiko\n",
      "  Obtaining dependency information for paramiko from https://files.pythonhosted.org/packages/1f/66/14b2c030fcce69cba482d205c2d1462ca5c77303a263260dcb1192801c85/paramiko-3.5.0-py3-none-any.whl.metadata\n",
      "  Downloading paramiko-3.5.0-py3-none-any.whl.metadata (4.4 kB)\n",
      "Collecting bcrypt>=3.2 (from paramiko)\n",
      "  Obtaining dependency information for bcrypt>=3.2 from https://files.pythonhosted.org/packages/76/b9/d51d34e6cd6d887adddb28a8680a1d34235cc45b9d6e238ce39b98199ca0/bcrypt-4.2.1-cp39-abi3-win_amd64.whl.metadata\n",
      "  Downloading bcrypt-4.2.1-cp39-abi3-win_amd64.whl.metadata (10 kB)\n",
      "Collecting cryptography>=3.3 (from paramiko)\n",
      "  Obtaining dependency information for cryptography>=3.3 from https://files.pythonhosted.org/packages/97/9b/443270b9210f13f6ef240eff73fd32e02d381e7103969dc66ce8e89ee901/cryptography-44.0.0-cp39-abi3-win_amd64.whl.metadata\n",
      "  Downloading cryptography-44.0.0-cp39-abi3-win_amd64.whl.metadata (5.7 kB)\n",
      "Collecting pynacl>=1.5 (from paramiko)\n",
      "  Obtaining dependency information for pynacl>=1.5 from https://files.pythonhosted.org/packages/5e/22/d3db169895faaf3e2eda892f005f433a62db2decbcfbc2f61e6517adfa87/PyNaCl-1.5.0-cp36-abi3-win_amd64.whl.metadata\n",
      "  Downloading PyNaCl-1.5.0-cp36-abi3-win_amd64.whl.metadata (8.7 kB)\n",
      "Collecting cffi>=1.12 (from cryptography>=3.3->paramiko)\n",
      "  Obtaining dependency information for cffi>=1.12 from https://files.pythonhosted.org/packages/50/b9/db34c4755a7bd1cb2d1603ac3863f22bcecbd1ba29e5ee841a4bc510b294/cffi-1.17.1-cp312-cp312-win_amd64.whl.metadata\n",
      "  Downloading cffi-1.17.1-cp312-cp312-win_amd64.whl.metadata (1.6 kB)\n",
      "Collecting pycparser (from cffi>=1.12->cryptography>=3.3->paramiko)\n",
      "  Obtaining dependency information for pycparser from https://files.pythonhosted.org/packages/13/a3/a812df4e2dd5696d1f351d58b8fe16a405b234ad2886a0dab9183fb78109/pycparser-2.22-py3-none-any.whl.metadata\n",
      "  Downloading pycparser-2.22-py3-none-any.whl.metadata (943 bytes)\n",
      "Downloading paramiko-3.5.0-py3-none-any.whl (227 kB)\n",
      "   ---------------------------------------- 0.0/227.1 kB ? eta -:--:--\n",
      "   ------- ------------------------------- 41.0/227.1 kB 960.0 kB/s eta 0:00:01\n",
      "   ---------------------------------------- 227.1/227.1 kB 2.3 MB/s eta 0:00:00\n",
      "Downloading bcrypt-4.2.1-cp39-abi3-win_amd64.whl (153 kB)\n",
      "   ---------------------------------------- 0.0/153.1 kB ? eta -:--:--\n",
      "   ------------------------------------- -- 143.4/153.1 kB 4.2 MB/s eta 0:00:01\n",
      "   ---------------------------------------- 153.1/153.1 kB 3.0 MB/s eta 0:00:00\n",
      "Downloading cryptography-44.0.0-cp39-abi3-win_amd64.whl (3.2 MB)\n",
      "   ---------------------------------------- 0.0/3.2 MB ? eta -:--:--\n",
      "   --- ------------------------------------ 0.3/3.2 MB 5.2 MB/s eta 0:00:01\n",
      "   ------ --------------------------------- 0.5/3.2 MB 5.1 MB/s eta 0:00:01\n",
      "   -------- ------------------------------- 0.7/3.2 MB 4.7 MB/s eta 0:00:01\n",
      "   ---------- ----------------------------- 0.9/3.2 MB 4.2 MB/s eta 0:00:01\n",
      "   ------------ --------------------------- 1.0/3.2 MB 4.4 MB/s eta 0:00:01\n",
      "   --------------- ------------------------ 1.2/3.2 MB 4.1 MB/s eta 0:00:01\n",
      "   ----------------- ---------------------- 1.4/3.2 MB 4.1 MB/s eta 0:00:01\n",
      "   -------------------- ------------------- 1.6/3.2 MB 4.1 MB/s eta 0:00:01\n",
      "   ---------------------- ----------------- 1.8/3.2 MB 4.0 MB/s eta 0:00:01\n",
      "   ------------------------ --------------- 2.0/3.2 MB 4.1 MB/s eta 0:00:01\n",
      "   --------------------------- ------------ 2.2/3.2 MB 4.1 MB/s eta 0:00:01\n",
      "   ----------------------------- ---------- 2.4/3.2 MB 4.1 MB/s eta 0:00:01\n",
      "   -------------------------------- ------- 2.6/3.2 MB 4.2 MB/s eta 0:00:01\n",
      "   ----------------------------------- ---- 2.9/3.2 MB 4.3 MB/s eta 0:00:01\n",
      "   -------------------------------------- - 3.1/3.2 MB 4.2 MB/s eta 0:00:01\n",
      "   ---------------------------------------  3.2/3.2 MB 4.2 MB/s eta 0:00:01\n",
      "   ---------------------------------------- 3.2/3.2 MB 4.0 MB/s eta 0:00:00\n",
      "Downloading PyNaCl-1.5.0-cp36-abi3-win_amd64.whl (212 kB)\n",
      "   ---------------------------------------- 0.0/212.1 kB ? eta -:--:--\n",
      "   ---------------------------- ----------- 153.6/212.1 kB 4.6 MB/s eta 0:00:01\n",
      "   ---------------------------------------- 212.1/212.1 kB 3.2 MB/s eta 0:00:00\n",
      "Downloading cffi-1.17.1-cp312-cp312-win_amd64.whl (181 kB)\n",
      "   ---------------------------------------- 0.0/182.0 kB ? eta -:--:--\n",
      "   -------------------------------------- - 174.1/182.0 kB 5.3 MB/s eta 0:00:01\n",
      "   ---------------------------------------- 182.0/182.0 kB 3.7 MB/s eta 0:00:00\n",
      "Downloading pycparser-2.22-py3-none-any.whl (117 kB)\n",
      "   ---------------------------------------- 0.0/117.6 kB ? eta -:--:--\n",
      "   ---------------------------------------- 117.6/117.6 kB 3.5 MB/s eta 0:00:00\n",
      "Installing collected packages: pycparser, bcrypt, cffi, pynacl, cryptography, paramiko\n",
      "Successfully installed bcrypt-4.2.1 cffi-1.17.1 cryptography-44.0.0 paramiko-3.5.0 pycparser-2.22 pynacl-1.5.0\n"
     ]
    },
    {
     "name": "stderr",
     "output_type": "stream",
     "text": [
      "\n",
      "[notice] A new release of pip is available: 23.2.1 -> 24.3.1\n",
      "[notice] To update, run: python.exe -m pip install --upgrade pip\n"
     ]
    }
   ],
   "source": [
    "import sys\n",
    "!{sys.executable} -m pip install paramiko"
   ]
  },
  {
   "cell_type": "code",
   "execution_count": 10,
   "metadata": {},
   "outputs": [
    {
     "name": "stdout",
     "output_type": "stream",
     "text": [
      "Requirement already satisfied: pip in c:\\users\\emmastrand\\appdata\\local\\programs\\python\\python312\\lib\\site-packages (23.2.1)\n",
      "Collecting pip\n",
      "  Obtaining dependency information for pip from https://files.pythonhosted.org/packages/ef/7d/500c9ad20238fcfcb4cb9243eede163594d7020ce87bd9610c9e02771876/pip-24.3.1-py3-none-any.whl.metadata\n",
      "  Downloading pip-24.3.1-py3-none-any.whl.metadata (3.7 kB)\n",
      "Downloading pip-24.3.1-py3-none-any.whl (1.8 MB)\n",
      "   ---------------------------------------- 0.0/1.8 MB ? eta -:--:--\n",
      "   ---------------------------------------- 0.0/1.8 MB ? eta -:--:--\n",
      "   ---------------------------------------- 0.0/1.8 MB ? eta -:--:--\n",
      "    --------------------------------------- 0.0/1.8 MB 325.1 kB/s eta 0:00:06\n",
      "   - -------------------------------------- 0.1/1.8 MB 558.5 kB/s eta 0:00:04\n",
      "   ------- -------------------------------- 0.3/1.8 MB 1.8 MB/s eta 0:00:01\n",
      "   ------------- -------------------------- 0.6/1.8 MB 3.1 MB/s eta 0:00:01\n",
      "   -------------------- ------------------- 0.9/1.8 MB 3.7 MB/s eta 0:00:01\n",
      "   -------------------------- ------------- 1.2/1.8 MB 4.3 MB/s eta 0:00:01\n",
      "   ------------------------------- -------- 1.4/1.8 MB 4.6 MB/s eta 0:00:01\n",
      "   ---------------------------------------  1.8/1.8 MB 4.8 MB/s eta 0:00:01\n",
      "   ---------------------------------------- 1.8/1.8 MB 4.3 MB/s eta 0:00:00\n",
      "Installing collected packages: pip\n",
      "  Attempting uninstall: pip\n",
      "    Found existing installation: pip 23.2.1\n",
      "    Uninstalling pip-23.2.1:\n",
      "      Successfully uninstalled pip-23.2.1\n",
      "Successfully installed pip-24.3.1\n"
     ]
    },
    {
     "name": "stderr",
     "output_type": "stream",
     "text": [
      "  WARNING: The scripts pip.exe, pip3.12.exe and pip3.exe are installed in 'c:\\Users\\EmmaStrand\\AppData\\Local\\Programs\\Python\\Python312\\Scripts' which is not on PATH.\n",
      "  Consider adding this directory to PATH or, if you prefer to suppress this warning, use --no-warn-script-location.\n"
     ]
    },
    {
     "name": "stdout",
     "output_type": "stream",
     "text": [
      "Requirement already satisfied: paramiko in c:\\users\\emmastrand\\appdata\\local\\programs\\python\\python312\\lib\\site-packages (3.5.0)\n",
      "Requirement already satisfied: bcrypt>=3.2 in c:\\users\\emmastrand\\appdata\\local\\programs\\python\\python312\\lib\\site-packages (from paramiko) (4.2.1)\n",
      "Requirement already satisfied: cryptography>=3.3 in c:\\users\\emmastrand\\appdata\\local\\programs\\python\\python312\\lib\\site-packages (from paramiko) (44.0.0)\n",
      "Requirement already satisfied: pynacl>=1.5 in c:\\users\\emmastrand\\appdata\\local\\programs\\python\\python312\\lib\\site-packages (from paramiko) (1.5.0)\n",
      "Requirement already satisfied: cffi>=1.12 in c:\\users\\emmastrand\\appdata\\local\\programs\\python\\python312\\lib\\site-packages (from cryptography>=3.3->paramiko) (1.17.1)\n",
      "Requirement already satisfied: pycparser in c:\\users\\emmastrand\\appdata\\local\\programs\\python\\python312\\lib\\site-packages (from cffi>=1.12->cryptography>=3.3->paramiko) (2.22)\n"
     ]
    }
   ],
   "source": [
    "import sys\n",
    "!{sys.executable} -m pip install --upgrade pip\n",
    "!{sys.executable} -m pip install paramiko"
   ]
  },
  {
   "cell_type": "code",
   "execution_count": 12,
   "metadata": {},
   "outputs": [
    {
     "ename": "PasswordRequiredException",
     "evalue": "Private key file is encrypted",
     "output_type": "error",
     "traceback": [
      "\u001b[1;31m---------------------------------------------------------------------------\u001b[0m",
      "\u001b[1;31mPasswordRequiredException\u001b[0m                 Traceback (most recent call last)",
      "Cell \u001b[1;32mIn[12], line 7\u001b[0m\n\u001b[0;32m      4\u001b[0m client\u001b[38;5;241m.\u001b[39mset_missing_host_key_policy(paramiko\u001b[38;5;241m.\u001b[39mAutoAddPolicy())\n\u001b[0;32m      6\u001b[0m \u001b[38;5;28;01mtry\u001b[39;00m:\n\u001b[1;32m----> 7\u001b[0m     \u001b[43mclient\u001b[49m\u001b[38;5;241;43m.\u001b[39;49m\u001b[43mconnect\u001b[49m\u001b[43m(\u001b[49m\u001b[38;5;124;43m'\u001b[39;49m\u001b[38;5;124;43mlogin.discovery.neu.edu\u001b[39;49m\u001b[38;5;124;43m'\u001b[39;49m\u001b[43m,\u001b[49m\u001b[43m \u001b[49m\u001b[43musername\u001b[49m\u001b[38;5;241;43m=\u001b[39;49m\u001b[38;5;124;43m'\u001b[39;49m\u001b[38;5;124;43me.strand\u001b[39;49m\u001b[38;5;124;43m'\u001b[39;49m\u001b[43m)\u001b[49m\n\u001b[0;32m      8\u001b[0m     stdin, stdout, stderr \u001b[38;5;241m=\u001b[39m client\u001b[38;5;241m.\u001b[39mexec_command(\u001b[38;5;124m'\u001b[39m\u001b[38;5;124mpwd\u001b[39m\u001b[38;5;124m'\u001b[39m)  \u001b[38;5;66;03m# Test command\u001b[39;00m\n\u001b[0;32m      9\u001b[0m     \u001b[38;5;28mprint\u001b[39m(stdout\u001b[38;5;241m.\u001b[39mread()\u001b[38;5;241m.\u001b[39mdecode())\n",
      "File \u001b[1;32mc:\\Users\\EmmaStrand\\AppData\\Local\\Programs\\Python\\Python312\\Lib\\site-packages\\paramiko\\client.py:485\u001b[0m, in \u001b[0;36mSSHClient.connect\u001b[1;34m(self, hostname, port, username, password, pkey, key_filename, timeout, allow_agent, look_for_keys, compress, sock, gss_auth, gss_kex, gss_deleg_creds, gss_host, banner_timeout, auth_timeout, channel_timeout, gss_trust_dns, passphrase, disabled_algorithms, transport_factory, auth_strategy)\u001b[0m\n\u001b[0;32m    482\u001b[0m \u001b[38;5;28;01melse\u001b[39;00m:\n\u001b[0;32m    483\u001b[0m     key_filenames \u001b[38;5;241m=\u001b[39m key_filename\n\u001b[1;32m--> 485\u001b[0m \u001b[38;5;28;43mself\u001b[39;49m\u001b[38;5;241;43m.\u001b[39;49m\u001b[43m_auth\u001b[49m\u001b[43m(\u001b[49m\n\u001b[0;32m    486\u001b[0m \u001b[43m    \u001b[49m\u001b[43musername\u001b[49m\u001b[43m,\u001b[49m\n\u001b[0;32m    487\u001b[0m \u001b[43m    \u001b[49m\u001b[43mpassword\u001b[49m\u001b[43m,\u001b[49m\n\u001b[0;32m    488\u001b[0m \u001b[43m    \u001b[49m\u001b[43mpkey\u001b[49m\u001b[43m,\u001b[49m\n\u001b[0;32m    489\u001b[0m \u001b[43m    \u001b[49m\u001b[43mkey_filenames\u001b[49m\u001b[43m,\u001b[49m\n\u001b[0;32m    490\u001b[0m \u001b[43m    \u001b[49m\u001b[43mallow_agent\u001b[49m\u001b[43m,\u001b[49m\n\u001b[0;32m    491\u001b[0m \u001b[43m    \u001b[49m\u001b[43mlook_for_keys\u001b[49m\u001b[43m,\u001b[49m\n\u001b[0;32m    492\u001b[0m \u001b[43m    \u001b[49m\u001b[43mgss_auth\u001b[49m\u001b[43m,\u001b[49m\n\u001b[0;32m    493\u001b[0m \u001b[43m    \u001b[49m\u001b[43mgss_kex\u001b[49m\u001b[43m,\u001b[49m\n\u001b[0;32m    494\u001b[0m \u001b[43m    \u001b[49m\u001b[43mgss_deleg_creds\u001b[49m\u001b[43m,\u001b[49m\n\u001b[0;32m    495\u001b[0m \u001b[43m    \u001b[49m\u001b[43mt\u001b[49m\u001b[38;5;241;43m.\u001b[39;49m\u001b[43mgss_host\u001b[49m\u001b[43m,\u001b[49m\n\u001b[0;32m    496\u001b[0m \u001b[43m    \u001b[49m\u001b[43mpassphrase\u001b[49m\u001b[43m,\u001b[49m\n\u001b[0;32m    497\u001b[0m \u001b[43m\u001b[49m\u001b[43m)\u001b[49m\n",
      "File \u001b[1;32mc:\\Users\\EmmaStrand\\AppData\\Local\\Programs\\Python\\Python312\\Lib\\site-packages\\paramiko\\client.py:818\u001b[0m, in \u001b[0;36mSSHClient._auth\u001b[1;34m(self, username, password, pkey, key_filenames, allow_agent, look_for_keys, gss_auth, gss_kex, gss_deleg_creds, gss_host, passphrase)\u001b[0m\n\u001b[0;32m    816\u001b[0m \u001b[38;5;66;03m# if we got an auth-failed exception earlier, re-raise it\u001b[39;00m\n\u001b[0;32m    817\u001b[0m \u001b[38;5;28;01mif\u001b[39;00m saved_exception \u001b[38;5;129;01mis\u001b[39;00m \u001b[38;5;129;01mnot\u001b[39;00m \u001b[38;5;28;01mNone\u001b[39;00m:\n\u001b[1;32m--> 818\u001b[0m     \u001b[38;5;28;01mraise\u001b[39;00m saved_exception\n\u001b[0;32m    819\u001b[0m \u001b[38;5;28;01mraise\u001b[39;00m SSHException(\u001b[38;5;124m\"\u001b[39m\u001b[38;5;124mNo authentication methods available\u001b[39m\u001b[38;5;124m\"\u001b[39m)\n",
      "File \u001b[1;32mc:\\Users\\EmmaStrand\\AppData\\Local\\Programs\\Python\\Python312\\Lib\\site-packages\\paramiko\\client.py:788\u001b[0m, in \u001b[0;36mSSHClient._auth\u001b[1;34m(self, username, password, pkey, key_filenames, allow_agent, look_for_keys, gss_auth, gss_kex, gss_deleg_creds, gss_host, passphrase)\u001b[0m\n\u001b[0;32m    786\u001b[0m \u001b[38;5;28;01mfor\u001b[39;00m pkey_class, filename \u001b[38;5;129;01min\u001b[39;00m keyfiles:\n\u001b[0;32m    787\u001b[0m     \u001b[38;5;28;01mtry\u001b[39;00m:\n\u001b[1;32m--> 788\u001b[0m         key \u001b[38;5;241m=\u001b[39m \u001b[38;5;28;43mself\u001b[39;49m\u001b[38;5;241;43m.\u001b[39;49m\u001b[43m_key_from_filepath\u001b[49m\u001b[43m(\u001b[49m\n\u001b[0;32m    789\u001b[0m \u001b[43m            \u001b[49m\u001b[43mfilename\u001b[49m\u001b[43m,\u001b[49m\u001b[43m \u001b[49m\u001b[43mpkey_class\u001b[49m\u001b[43m,\u001b[49m\u001b[43m \u001b[49m\u001b[43mpassphrase\u001b[49m\n\u001b[0;32m    790\u001b[0m \u001b[43m        \u001b[49m\u001b[43m)\u001b[49m\n\u001b[0;32m    791\u001b[0m         \u001b[38;5;66;03m# for 2-factor auth a successfully auth'd key will result\u001b[39;00m\n\u001b[0;32m    792\u001b[0m         \u001b[38;5;66;03m# in ['password']\u001b[39;00m\n\u001b[0;32m    793\u001b[0m         allowed_types \u001b[38;5;241m=\u001b[39m \u001b[38;5;28mset\u001b[39m(\n\u001b[0;32m    794\u001b[0m             \u001b[38;5;28mself\u001b[39m\u001b[38;5;241m.\u001b[39m_transport\u001b[38;5;241m.\u001b[39mauth_publickey(username, key)\n\u001b[0;32m    795\u001b[0m         )\n",
      "File \u001b[1;32mc:\\Users\\EmmaStrand\\AppData\\Local\\Programs\\Python\\Python312\\Lib\\site-packages\\paramiko\\client.py:638\u001b[0m, in \u001b[0;36mSSHClient._key_from_filepath\u001b[1;34m(self, filename, klass, password)\u001b[0m\n\u001b[0;32m    636\u001b[0m     cert_path \u001b[38;5;241m=\u001b[39m filename \u001b[38;5;241m+\u001b[39m cert_suffix\n\u001b[0;32m    637\u001b[0m \u001b[38;5;66;03m# Blindly try the key path; if no private key, nothing will work.\u001b[39;00m\n\u001b[1;32m--> 638\u001b[0m key \u001b[38;5;241m=\u001b[39m \u001b[43mklass\u001b[49m\u001b[38;5;241;43m.\u001b[39;49m\u001b[43mfrom_private_key_file\u001b[49m\u001b[43m(\u001b[49m\u001b[43mkey_path\u001b[49m\u001b[43m,\u001b[49m\u001b[43m \u001b[49m\u001b[43mpassword\u001b[49m\u001b[43m)\u001b[49m\n\u001b[0;32m    639\u001b[0m \u001b[38;5;66;03m# TODO: change this to 'Loading' instead of 'Trying' sometime; probably\u001b[39;00m\n\u001b[0;32m    640\u001b[0m \u001b[38;5;66;03m# when #387 is released, since this is a critical log message users are\u001b[39;00m\n\u001b[0;32m    641\u001b[0m \u001b[38;5;66;03m# likely testing/filtering for (bah.)\u001b[39;00m\n\u001b[0;32m    642\u001b[0m msg \u001b[38;5;241m=\u001b[39m \u001b[38;5;124m\"\u001b[39m\u001b[38;5;124mTrying discovered key \u001b[39m\u001b[38;5;132;01m{}\u001b[39;00m\u001b[38;5;124m in \u001b[39m\u001b[38;5;132;01m{}\u001b[39;00m\u001b[38;5;124m\"\u001b[39m\u001b[38;5;241m.\u001b[39mformat(\n\u001b[0;32m    643\u001b[0m     hexlify(key\u001b[38;5;241m.\u001b[39mget_fingerprint()), key_path\n\u001b[0;32m    644\u001b[0m )\n",
      "File \u001b[1;32mc:\\Users\\EmmaStrand\\AppData\\Local\\Programs\\Python\\Python312\\Lib\\site-packages\\paramiko\\pkey.py:435\u001b[0m, in \u001b[0;36mPKey.from_private_key_file\u001b[1;34m(cls, filename, password)\u001b[0m\n\u001b[0;32m    414\u001b[0m \u001b[38;5;129m@classmethod\u001b[39m\n\u001b[0;32m    415\u001b[0m \u001b[38;5;28;01mdef\u001b[39;00m\u001b[38;5;250m \u001b[39m\u001b[38;5;21mfrom_private_key_file\u001b[39m(\u001b[38;5;28mcls\u001b[39m, filename, password\u001b[38;5;241m=\u001b[39m\u001b[38;5;28;01mNone\u001b[39;00m):\n\u001b[0;32m    416\u001b[0m \u001b[38;5;250m    \u001b[39m\u001b[38;5;124;03m\"\"\"\u001b[39;00m\n\u001b[0;32m    417\u001b[0m \u001b[38;5;124;03m    Create a key object by reading a private key file.  If the private\u001b[39;00m\n\u001b[0;32m    418\u001b[0m \u001b[38;5;124;03m    key is encrypted and ``password`` is not ``None``, the given password\u001b[39;00m\n\u001b[1;32m   (...)\u001b[0m\n\u001b[0;32m    433\u001b[0m \u001b[38;5;124;03m    :raises: `.SSHException` -- if the key file is invalid\u001b[39;00m\n\u001b[0;32m    434\u001b[0m \u001b[38;5;124;03m    \"\"\"\u001b[39;00m\n\u001b[1;32m--> 435\u001b[0m     key \u001b[38;5;241m=\u001b[39m \u001b[38;5;28;43mcls\u001b[39;49m\u001b[43m(\u001b[49m\u001b[43mfilename\u001b[49m\u001b[38;5;241;43m=\u001b[39;49m\u001b[43mfilename\u001b[49m\u001b[43m,\u001b[49m\u001b[43m \u001b[49m\u001b[43mpassword\u001b[49m\u001b[38;5;241;43m=\u001b[39;49m\u001b[43mpassword\u001b[49m\u001b[43m)\u001b[49m\n\u001b[0;32m    436\u001b[0m     \u001b[38;5;28;01mreturn\u001b[39;00m key\n",
      "File \u001b[1;32mc:\\Users\\EmmaStrand\\AppData\\Local\\Programs\\Python\\Python312\\Lib\\site-packages\\paramiko\\ed25519key.py:65\u001b[0m, in \u001b[0;36mEd25519Key.__init__\u001b[1;34m(self, msg, data, filename, password, file_obj)\u001b[0m\n\u001b[0;32m     62\u001b[0m     pkformat, data \u001b[38;5;241m=\u001b[39m \u001b[38;5;28mself\u001b[39m\u001b[38;5;241m.\u001b[39m_read_private_key(\u001b[38;5;124m\"\u001b[39m\u001b[38;5;124mOPENSSH\u001b[39m\u001b[38;5;124m\"\u001b[39m, file_obj)\n\u001b[0;32m     64\u001b[0m \u001b[38;5;28;01mif\u001b[39;00m filename \u001b[38;5;129;01mor\u001b[39;00m file_obj:\n\u001b[1;32m---> 65\u001b[0m     signing_key \u001b[38;5;241m=\u001b[39m \u001b[38;5;28;43mself\u001b[39;49m\u001b[38;5;241;43m.\u001b[39;49m\u001b[43m_parse_signing_key_data\u001b[49m\u001b[43m(\u001b[49m\u001b[43mdata\u001b[49m\u001b[43m,\u001b[49m\u001b[43m \u001b[49m\u001b[43mpassword\u001b[49m\u001b[43m)\u001b[49m\n\u001b[0;32m     67\u001b[0m \u001b[38;5;28;01mif\u001b[39;00m signing_key \u001b[38;5;129;01mis\u001b[39;00m \u001b[38;5;28;01mNone\u001b[39;00m \u001b[38;5;129;01mand\u001b[39;00m verifying_key \u001b[38;5;129;01mis\u001b[39;00m \u001b[38;5;28;01mNone\u001b[39;00m:\n\u001b[0;32m     68\u001b[0m     \u001b[38;5;28;01mraise\u001b[39;00m \u001b[38;5;167;01mValueError\u001b[39;00m(\u001b[38;5;124m\"\u001b[39m\u001b[38;5;124mneed a key\u001b[39m\u001b[38;5;124m\"\u001b[39m)\n",
      "File \u001b[1;32mc:\\Users\\EmmaStrand\\AppData\\Local\\Programs\\Python\\Python312\\Lib\\site-packages\\paramiko\\ed25519key.py:98\u001b[0m, in \u001b[0;36mEd25519Key._parse_signing_key_data\u001b[1;34m(self, data, password)\u001b[0m\n\u001b[0;32m     96\u001b[0m \u001b[38;5;28;01melif\u001b[39;00m kdfname \u001b[38;5;241m==\u001b[39m \u001b[38;5;124m\"\u001b[39m\u001b[38;5;124mbcrypt\u001b[39m\u001b[38;5;124m\"\u001b[39m:\n\u001b[0;32m     97\u001b[0m     \u001b[38;5;28;01mif\u001b[39;00m \u001b[38;5;129;01mnot\u001b[39;00m password:\n\u001b[1;32m---> 98\u001b[0m         \u001b[38;5;28;01mraise\u001b[39;00m PasswordRequiredException(\n\u001b[0;32m     99\u001b[0m             \u001b[38;5;124m\"\u001b[39m\u001b[38;5;124mPrivate key file is encrypted\u001b[39m\u001b[38;5;124m\"\u001b[39m\n\u001b[0;32m    100\u001b[0m         )\n\u001b[0;32m    101\u001b[0m     kdf \u001b[38;5;241m=\u001b[39m Message(kdfoptions)\n\u001b[0;32m    102\u001b[0m     bcrypt_salt \u001b[38;5;241m=\u001b[39m kdf\u001b[38;5;241m.\u001b[39mget_binary()\n",
      "\u001b[1;31mPasswordRequiredException\u001b[0m: Private key file is encrypted"
     ]
    }
   ],
   "source": [
    "import paramiko\n",
    "\n",
    "client = paramiko.SSHClient()\n",
    "client.set_missing_host_key_policy(paramiko.AutoAddPolicy())\n",
    "\n",
    "try:\n",
    "    client.connect('login.discovery.neu.edu', username='e.strand')\n",
    "    stdin, stdout, stderr = client.exec_command('pwd')  # Test command\n",
    "    print(stdout.read().decode())\n",
    "finally:\n",
    "    client.close()"
   ]
  }
 ],
 "metadata": {
  "kernelspec": {
   "display_name": "Python 3",
   "language": "python",
   "name": "python3"
  },
  "language_info": {
   "codemirror_mode": {
    "name": "ipython",
    "version": 3
   },
   "file_extension": ".py",
   "mimetype": "text/x-python",
   "name": "python",
   "nbconvert_exporter": "python",
   "pygments_lexer": "ipython3",
   "version": "3.12.1"
  }
 },
 "nbformat": 4,
 "nbformat_minor": 2
}
